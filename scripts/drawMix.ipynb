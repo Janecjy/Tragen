{
 "cells": [
  {
   "cell_type": "code",
   "execution_count": null,
   "metadata": {},
   "outputs": [],
   "source": [
    "# draw trace mixture distribution\n",
    "import os\n",
    "import matplotlib.pyplot as plt\n",
    "\n",
    "def drawMixture(conf_path):\n",
    "    x = []\n",
    "    y = []\n",
    "    for f in os.listdir(conf_path):\n",
    "        tmp = f.split('.')[0].split('-')[3].split(':')\n",
    "        x.append(int(tmp[0]))\n",
    "        y.append(int(tmp[1]))\n",
    "\n",
    "    plt.figure(figsize=(20, 20))\n",
    "    plt.scatter(x, y, s=1)\n",
    "    plt.xlabel(\"TC-0 Request Rate (req/s)\")\n",
    "    plt.ylabel(\"TC-1 Request Rate (req/s)\")\n",
    "    plt.show()\n",
    "        "
   ]
  },
  {
   "cell_type": "code",
   "execution_count": null,
   "metadata": {},
   "outputs": [],
   "source": [
    "drawMixture(\"../config\")"
   ]
  }
 ],
 "metadata": {
  "kernelspec": {
   "display_name": "Python 3.9.12 ('base')",
   "language": "python",
   "name": "python3"
  },
  "language_info": {
   "codemirror_mode": {
    "name": "ipython",
    "version": 3
   },
   "file_extension": ".py",
   "mimetype": "text/x-python",
   "name": "python",
   "nbconvert_exporter": "python",
   "pygments_lexer": "ipython3",
   "version": "3.9.12"
  },
  "orig_nbformat": 4,
  "vscode": {
   "interpreter": {
    "hash": "54d0a800c775d5ca903c64c8c6dc6ce405b9b9af6b5c860320d299bc1ebce630"
   }
  }
 },
 "nbformat": 4,
 "nbformat_minor": 2
}
